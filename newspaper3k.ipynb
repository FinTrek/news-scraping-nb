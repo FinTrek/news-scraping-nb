{
  "metadata": {
    "language_info": {
      "mimetype": "text/x-python",
      "nbconvert_exporter": "python",
      "name": "python",
      "pygments_lexer": "ipython3",
      "version": "3.6.6",
      "file_extension": ".py",
      "codemirror_mode": {
        "version": 3,
        "name": "ipython"
      }
    },
    "kernelspec": {
      "name": "python36",
      "display_name": "Python 3.6",
      "language": "python"
    }
  },
  "nbformat_minor": 2,
  "nbformat": 4,
  "cells": [
    {
      "cell_type": "code",
      "source": "# Make sure the package is installed. With pip3 you can do \n# !pip3 install newspaper3k",
      "metadata": {
        "trusted": true
      },
      "execution_count": 4,
      "outputs": []
    },
    {
      "cell_type": "code",
      "source": "from newspaper import Article",
      "metadata": {
        "trusted": true
      },
      "execution_count": 5,
      "outputs": []
    },
    {
      "cell_type": "code",
      "source": "url = 'https://www.abc.net.au/news/2020-01-10/act-cancels-australia-day-fireworks/11856580'",
      "metadata": {
        "trusted": true
      },
      "execution_count": 6,
      "outputs": []
    },
    {
      "cell_type": "code",
      "source": "article = Article(url)",
      "metadata": {
        "trusted": true
      },
      "execution_count": 7,
      "outputs": []
    },
    {
      "cell_type": "code",
      "source": "article",
      "metadata": {
        "trusted": true
      },
      "execution_count": 8,
      "outputs": [
        {
          "execution_count": 8,
          "output_type": "execute_result",
          "data": {
            "text/plain": "<newspaper.article.Article at 0x7faf86520438>"
          },
          "metadata": {}
        }
      ]
    },
    {
      "cell_type": "code",
      "source": "article.download()\narticle.parse()",
      "metadata": {
        "trusted": true
      },
      "execution_count": 13,
      "outputs": []
    },
    {
      "cell_type": "code",
      "source": "article.authors\n",
      "metadata": {
        "trusted": true
      },
      "execution_count": 14,
      "outputs": [
        {
          "execution_count": 14,
          "output_type": "execute_result",
          "data": {
            "text/plain": "['Australian Broadcasting Corporation']"
          },
          "metadata": {}
        }
      ]
    },
    {
      "cell_type": "code",
      "source": "article.publish_date\n",
      "metadata": {
        "trusted": true
      },
      "execution_count": 15,
      "outputs": [
        {
          "execution_count": 15,
          "output_type": "execute_result",
          "data": {
            "text/plain": "datetime.datetime(2020, 1, 10, 0, 0)"
          },
          "metadata": {}
        }
      ]
    },
    {
      "cell_type": "code",
      "source": "article.text[:100]",
      "metadata": {
        "trusted": true
      },
      "execution_count": 21,
      "outputs": [
        {
          "execution_count": 21,
          "output_type": "execute_result",
          "data": {
            "text/plain": "'Canberra and Queanbeyan cancel Australia Day fireworks celebrations due to bushfires\\n\\nPosted\\n\\nThe AC'"
          },
          "metadata": {}
        }
      ]
    },
    {
      "cell_type": "code",
      "source": "from IPython.display import Image\nfrom IPython.core.display import HTML \nImage(url= article.top_img, width=300)",
      "metadata": {
        "trusted": true
      },
      "execution_count": 30,
      "outputs": [
        {
          "execution_count": 30,
          "output_type": "execute_result",
          "data": {
            "text/plain": "<IPython.core.display.Image object>",
            "text/html": "<img src=\"https://www.abc.net.au/news/image/6048688-16x9-700x394.jpg\" width=\"300\"/>"
          },
          "metadata": {}
        }
      ]
    },
    {
      "cell_type": "code",
      "source": "# try nlp feature\nimport nltk\nnltk.download('punkt')\n\narticle.nlp()",
      "metadata": {
        "trusted": true
      },
      "execution_count": 33,
      "outputs": [
        {
          "text": "[nltk_data] Downloading package punkt to /home/nbuser/nltk_data...\n[nltk_data]   Package punkt is already up-to-date!\n",
          "name": "stdout",
          "output_type": "stream"
        }
      ]
    },
    {
      "cell_type": "code",
      "source": "article.summary",
      "metadata": {
        "trusted": true
      },
      "execution_count": 37,
      "outputs": [
        {
          "execution_count": 37,
          "output_type": "execute_result",
          "data": {
            "text/plain": "'Canberra and Queanbeyan cancel Australia Day fireworks celebrations due to bushfiresPostedThe ACT and its neighbouring town of Queanbeyan have cancelled this year\\'s Australia Day fireworks displays.\\n\"Rather, Australia Day is an opportunity for us to acknowledge the many Australians who are currently engaged in efforts to reduce the harm and trauma caused by bushfires this season.\"\\nLate last month, the ACT Government cancelled Canberra\\'s New Year\\'s Eve fireworks, which would have coincided with a total fire ban.\\nThe Australia Day long weekend is two weeks away.\\nThe thick bushfire smoke that has blighted Canberra recently is expected to stay for several more days.'"
          },
          "metadata": {}
        }
      ]
    },
    {
      "cell_type": "code",
      "source": "article.keywords",
      "metadata": {
        "trusted": true
      },
      "execution_count": 39,
      "outputs": [
        {
          "execution_count": 39,
          "output_type": "execute_result",
          "data": {
            "text/plain": "['ahead',\n 'australia',\n 'act',\n 'expected',\n 'canberra',\n 'celebrations',\n 'bushfires',\n 'queanbeyan',\n 'bushfire',\n 'fireworks',\n 'day',\n 'fires',\n 'total',\n 'cancel']"
          },
          "metadata": {}
        }
      ]
    }
  ]
}